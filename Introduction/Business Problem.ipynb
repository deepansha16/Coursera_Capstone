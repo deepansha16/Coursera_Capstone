{
    "cells": [
        {
            "cell_type": "markdown",
            "metadata": {
                "collapsed": true
            },
            "source": "# The Battle of the Neighborhoods\n"
        },
        {
            "cell_type": "markdown",
            "metadata": {},
            "source": "# Introduction"
        },
        {
            "cell_type": "markdown",
            "metadata": {},
            "source": "The main aim of this Project is to help university students decide the best locality or neighborhood to live in, depending on their budget and needs. There are countless number of students that are applying to universities in Toronto such as Toronto University, York University, Ryerson University and many more.\n\nAt times, it becomes a task for the student to find on- campus accomodation, and that results in chaotic decisions to find the next best neighborhood to reside in - considering a lot of factors - like access to basic facilites such as the super market, grocery stores, medical shops, malls, theatres, and most important of all - a sense of belongingness to feel more comfortable.\n\nThe goal for this project is to perform an analysis of the the features that distinguishes the neighborhood of Downtown from the others. These features include road connectivity, transportation system, weather conditions, emergency situations management,water resources and easy access to basic necessities.\n\nAll of this analysis will help the students get a better idea of the city, state and the area they will be moving into for a new phase in their lives."
        },
        {
            "cell_type": "markdown",
            "metadata": {},
            "source": "# The Problem being Addressed\n"
        },
        {
            "cell_type": "markdown",
            "metadata": {},
            "source": "The project accomplishes the goal of suggesting the student to a suitable neigborhood to settle down in."
        },
        {
            "cell_type": "markdown",
            "metadata": {},
            "source": "# Location\n"
        },
        {
            "cell_type": "markdown",
            "metadata": {},
            "source": "Downtown is a popular destination among Students in Canada to reside.It is a buzzing area filled with skyscrapers, restaurants, nightlife, and an eclectic mix of neighbourhoods. It\u2019s also home to iconic attractions like the CN Tower, St. Lawrence Market, and the Royal Ontario Museum, with exhibits on natural history. Bloor Street is an upscale shopping area, and the Eaton Centre is a huge, multistory mall. On the lake, the Harbourfront area has parks and cultural venues - perfect for student life."
        },
        {
            "cell_type": "markdown",
            "metadata": {},
            "source": "# Foursquare API"
        },
        {
            "cell_type": "markdown",
            "metadata": {},
            "source": "This project will use Four-square API as the prime data gathering source as it has a database of millions of places and provides the ability to perform location search, location sharing and details."
        },
        {
            "cell_type": "markdown",
            "metadata": {},
            "source": "# The Prescibed Work flow"
        },
        {
            "cell_type": "markdown",
            "metadata": {},
            "source": "Using credentials of Foursquare API, the features of nearby places of the neighborhoods will be sorted. Due to http request limitations the number of places per neighborhood parameter would reasonably be set to 100 and the radius parameter would be set to 500."
        },
        {
            "cell_type": "markdown",
            "metadata": {},
            "source": "# Libraries required for development of the project"
        },
        {
            "cell_type": "markdown",
            "metadata": {},
            "source": "Pandas: For creation and manipulation of  dataframes.\n\nFolium: Python visualization library wi be used to visualize the neighborhoods cluster distribution of using interactive leaflet map.\n\nScikit Learn: For importing k-means clustering.\n\nJSON: Library to handle JSON files.\n\nXML: To separate data from presentation and XML stores data in plain text format.\n\nGeocoder: To retrieve Location Data.\n\nBeautiful Soup and Requests: To scrap and library to handle http requests.\n\nMatplotlib: Python Plotting Module."
        }
    ],
    "metadata": {
        "kernelspec": {
            "display_name": "Python 3.6",
            "language": "python",
            "name": "python3"
        },
        "language_info": {
            "codemirror_mode": {
                "name": "ipython",
                "version": 3
            },
            "file_extension": ".py",
            "mimetype": "text/x-python",
            "name": "python",
            "nbconvert_exporter": "python",
            "pygments_lexer": "ipython3",
            "version": "3.6.9"
        }
    },
    "nbformat": 4,
    "nbformat_minor": 1
}